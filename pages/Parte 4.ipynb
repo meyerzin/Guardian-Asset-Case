{
 "cells": [
  {
   "cell_type": "code",
   "execution_count": 27,
   "metadata": {},
   "outputs": [],
   "source": [
    "def criar_e_posicionar_rainhas(n, posicoes_rainhas):\n",
    "    '''\n",
    "    Args:\n",
    "    - n: Tamanho do lado do tabuleiro de xadrez.\n",
    "    - posicoes_rainhas: Lista de tuplas, onde cada tupla contém as coordenadas (linha, coluna) para posicionar cada rainha.'''\n",
    "\n",
    "    tabuleiro = [[' ' for _ in range(n)] for _ in range(n)]\n",
    "    \n",
    "    def marcar_movimentos(linha, coluna):\n",
    "\n",
    "        for i in range(n):\n",
    "            # horizontal e vertical\n",
    "            tabuleiro[linha][i] = 'X'\n",
    "            tabuleiro[i][coluna] = 'X'\n",
    "            \n",
    "            # diagonais\n",
    "            if linha+i < n and coluna+i < n:\n",
    "                tabuleiro[linha+i][coluna+i] = 'X'\n",
    "            if linha-i >= 0 and coluna+i < n:\n",
    "                tabuleiro[linha-i][coluna+i] = 'X'\n",
    "            if linha+i < n and coluna-i >= 0:\n",
    "                tabuleiro[linha+i][coluna-i] = 'X'\n",
    "            if linha-i >= 0 and coluna-i >= 0:\n",
    "                tabuleiro[linha-i][coluna-i] = 'X'\n",
    "    \n",
    "    # Posiciona as rainhas e marca os movimentos\n",
    "    for linha, coluna in posicoes_rainhas:\n",
    "        marcar_movimentos(linha, coluna)\n",
    "        tabuleiro[linha][coluna] = 'Q'  # Marca a posição da rainha\n",
    "    \n",
    "    return tabuleiro\n",
    "\n",
    "# Exemplo de uso: criar um tabuleiro 8x8 com duas rainhas\n",
    "n = 15\n",
    "posicoes_rainhas = [(2, 3), (7, 7), (12,4)]"
   ]
  },
  {
   "cell_type": "code",
   "execution_count": 31,
   "metadata": {},
   "outputs": [],
   "source": [
    "tabuleiro_exemplo = criar_e_posicionar_rainhas(n,posicoes_rainhas)"
   ]
  },
  {
   "cell_type": "code",
   "execution_count": 32,
   "metadata": {},
   "outputs": [
    {
     "data": {
      "image/png": "[encoded data removed]",
      "text/plain": [
       "<Figure size 800x800 with 1 Axes>"
      ]
     },
     "metadata": {},
     "output_type": "display_data"
    }
   ],
   "source": [
    "import matplotlib.pyplot as plt\n",
    "import numpy as np\n",
    "\n",
    "def desenhar_tabuleiro(tabuleiro):\n",
    "    n = len(tabuleiro)\n",
    "    tabuleiro_imagem = np.zeros((n, n, 3), dtype=np.uint8)\n",
    "\n",
    "    # Cores\n",
    "    cor_branca = [255, 255, 255]\n",
    "    cor_preta = [0, 0, 0]\n",
    "    cor_rainha = [255, 0, 0]  # Vermelho para a rainha\n",
    "    cor_acesso = [0, 255, 0]  # Verde para casas acessíveis\n",
    "\n",
    "    # Desenha o tabuleiro\n",
    "    for i in range(n):\n",
    "        for j in range(n):\n",
    "            if tabuleiro[i][j] == ' ':\n",
    "                # Alternar cores das casas\n",
    "                if (i + j) % 2 == 0:\n",
    "                    tabuleiro_imagem[i, j] = cor_branca\n",
    "                else:\n",
    "                    tabuleiro_imagem[i, j] = cor_preta\n",
    "            elif tabuleiro[i][j] == 'X':\n",
    "                tabuleiro_imagem[i, j] = cor_acesso\n",
    "            elif tabuleiro[i][j] == 'Q':\n",
    "                tabuleiro_imagem[i, j] = cor_rainha\n",
    "\n",
    "    plt.figure(figsize=(8, 8))\n",
    "    plt.imshow(tabuleiro_imagem)\n",
    "    plt.xticks([]), plt.yticks([])  # Esconder os eixos\n",
    "    plt.show()\n",
    "\n",
    "# Usar o tabuleiro de exemplo do passo anterior\n",
    "desenhar_tabuleiro(tabuleiro_exemplo)"
   ]
  }
 ],
 "metadata": {
  "kernelspec": {
   "display_name": "base",
   "language": "python",
   "name": "python3"
  },
  "language_info": {
   "codemirror_mode": {
    "name": "ipython",
    "version": 3
   },
   "file_extension": ".py",
   "mimetype": "text/x-python",
   "name": "python",
   "nbconvert_exporter": "python",
   "pygments_lexer": "ipython3",
   "version": "3.11.3"
  }
 },
 "nbformat": 4,
 "nbformat_minor": 2
}
